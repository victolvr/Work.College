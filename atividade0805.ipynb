{
 "cells": [
  {
   "cell_type": "code",
   "execution_count": 13,
   "metadata": {},
   "outputs": [
    {
     "name": "stdout",
     "output_type": "stream",
     "text": [
      "NOME sev\n",
      "VALOR 4.0\n",
      "NOME hit\n",
      "VALOR 23.0\n",
      "NOME paulo\n",
      "VALOR 89.0\n",
      "NOME marta\n",
      "VALOR 2.0\n"
     ]
    }
   ],
   "source": [
    "for produto in range (0,10):\n",
    "    p= str(input(\"Digite o nome do produto: \"))\n",
    "    v= float(input(\"Digite o valor do produto: \"))\n",
    "\n",
    "    print(\"NOME\", p)\n",
    "    print(\"VALOR\", v)"
   ]
  },
  {
   "cell_type": "code",
   "execution_count": 3,
   "metadata": {},
   "outputs": [
    {
     "name": "stdout",
     "output_type": "stream",
     "text": [
      "Estamos no elemento  1\n",
      "Estamos no elemento  2\n",
      "Estamos no elemento  3\n",
      "Estamos no elemento  4\n",
      "Estamos no elemento  5\n",
      "Estamos no elemento  6\n"
     ]
    }
   ],
   "source": [
    "for elemento in [1, 2, 3, 4, 5, 6]:\n",
    "    print('Estamos no elemento ', elemento)"
   ]
  },
  {
   "cell_type": "code",
   "execution_count": 5,
   "metadata": {},
   "outputs": [
    {
     "name": "stdout",
     "output_type": "stream",
     "text": [
      "Estamos no elemento S\n",
      "Estamos no elemento T\n",
      "Estamos no elemento R\n",
      "Estamos no elemento I\n",
      "Estamos no elemento N\n",
      "Estamos no elemento G\n"
     ]
    }
   ],
   "source": [
    "for elemento in 'STRING':\n",
    "    print('Estamos no elemento', elemento)"
   ]
  },
  {
   "cell_type": "code",
   "execution_count": 6,
   "metadata": {},
   "outputs": [
    {
     "name": "stdout",
     "output_type": "stream",
     "text": [
      "estamos no elemento 0\n",
      "estamos no elemento 1\n",
      "estamos no elemento 2\n",
      "estamos no elemento 3\n",
      "estamos no elemento 4\n",
      "estamos no elemento 5\n"
     ]
    }
   ],
   "source": [
    "for elemento in range(len(\"STRING\")):\n",
    "    print('estamos no elemento', elemento)"
   ]
  },
  {
   "cell_type": "code",
   "execution_count": 12,
   "metadata": {},
   "outputs": [
    {
     "name": "stdout",
     "output_type": "stream",
     "text": [
      "NOME marcos \n",
      "VALOR 4.0\n",
      "NOME igor\n",
      "VALOR 8.0\n",
      "NOME maria\n",
      "VALOR 3.0\n",
      "NOME mariaia\n",
      "VALOR 10.0\n"
     ]
    }
   ],
   "source": [
    "produto = 0\n",
    "while produto <4:\n",
    "    p= str(input(\"Digite o nome do produto: \"))\n",
    "    v= float(input(\"Digite o valor do produto: \"))\n",
    "    produto += 1\n",
    "\n",
    "    print(\"NOME\", p)\n",
    "    print(\"VALOR\", v)"
   ]
  },
  {
   "cell_type": "code",
   "execution_count": 15,
   "metadata": {},
   "outputs": [
    {
     "name": "stdout",
     "output_type": "stream",
     "text": [
      "Estamos no elemento 0\n",
      "Estamos no elemento 1\n",
      "Estamos no elemento 2\n",
      "Estamos no elemento 3\n",
      "Estamos no elemento 4\n",
      "Estamos no elemento 5\n",
      "Estamos no elemento 6\n"
     ]
    }
   ],
   "source": [
    "elemento = 0 \n",
    "while elemento <= len ([1,2,3,4,5,6]):\n",
    "    print('Estamos no elemento', elemento)\n",
    "    elemento +=1"
   ]
  },
  {
   "cell_type": "code",
   "execution_count": 16,
   "metadata": {},
   "outputs": [
    {
     "name": "stdout",
     "output_type": "stream",
     "text": [
      "Estamos no elemento S\n",
      "Estamos no elemento T\n",
      "Estamos no elemento R\n",
      "Estamos no elemento I\n",
      "Estamos no elemento N\n",
      "Estamos no elemento G\n"
     ]
    }
   ],
   "source": [
    "s= 'STRING'\n",
    "indice = 0\n",
    "\n",
    "while indice in range (len (s)):\n",
    "    print('Estamos no elemento', s[indice])\n",
    "    indice +=1"
   ]
  },
  {
   "cell_type": "code",
   "execution_count": 17,
   "metadata": {},
   "outputs": [
    {
     "name": "stdout",
     "output_type": "stream",
     "text": [
      "0 t\n",
      "1 r\n",
      "2 a\n",
      "3 n\n",
      "4 q\n",
      "5 u\n",
      "6 i\n",
      "7 l\n",
      "8 o\n"
     ]
    }
   ],
   "source": [
    "palavra='tranquilo'\n",
    "for indice, letra in enumerate(palavra):\n",
    "    print(indice, letra)"
   ]
  },
  {
   "cell_type": "code",
   "execution_count": 18,
   "metadata": {},
   "outputs": [],
   "source": [
    "lista=['eat', 'sleep', 'repeat']\n",
    "palavra='geek'"
   ]
  },
  {
   "cell_type": "code",
   "execution_count": 19,
   "metadata": {},
   "outputs": [],
   "source": [
    "objeto1= enumerate(lista)\n",
    "objeto2= enumerate(palavra)"
   ]
  },
  {
   "cell_type": "code",
   "execution_count": 20,
   "metadata": {},
   "outputs": [
    {
     "name": "stdout",
     "output_type": "stream",
     "text": [
      "Tipo: <class 'enumerate'>\n",
      "[(0, 'eat'), (1, 'sleep'), (2, 'repeat')]\n"
     ]
    }
   ],
   "source": [
    "print(\"Tipo:\", type(objeto1))\n",
    "print(list(enumerate(lista)))"
   ]
  },
  {
   "cell_type": "code",
   "execution_count": 21,
   "metadata": {},
   "outputs": [
    {
     "name": "stdout",
     "output_type": "stream",
     "text": [
      "Tipo: <class 'enumerate'>\n",
      "[(0, 'g'), (1, 'e'), (2, 'e'), (3, 'k')]\n"
     ]
    }
   ],
   "source": [
    "print(\"Tipo:\", type(objeto2))\n",
    "print(list(enumerate(palavra)))"
   ]
  },
  {
   "cell_type": "code",
   "execution_count": 23,
   "metadata": {},
   "outputs": [
    {
     "name": "stdout",
     "output_type": "stream",
     "text": [
      "OI\n",
      "OI\n",
      "OI\n",
      "OI\n",
      "OI\n"
     ]
    }
   ],
   "source": [
    "s= \"viva o python\"\n",
    "for ch in s[3:8]:\n",
    "    print(\"OI\")"
   ]
  },
  {
   "cell_type": "code",
   "execution_count": 41,
   "metadata": {},
   "outputs": [
    {
     "name": "stdout",
     "output_type": "stream",
     "text": [
      "par: 1\n",
      "ímpar: 0\n"
     ]
    }
   ],
   "source": [
    "par = 0\n",
    "impar = 0\n",
    "\n",
    "for x in range(10):\n",
    "    numero= int(input(\"Digite um números inteiros\"))\n",
    "\n",
    "if numero % 2 == 0:\n",
    "    par +=1\n",
    "else:\n",
    "    impar +=1\n",
    "\n",
    "print (\"par:\", par)\n",
    "print (\"ímpar:\", impar)"
   ]
  }
 ],
 "metadata": {
  "kernelspec": {
   "display_name": "Python 3",
   "language": "python",
   "name": "python3"
  },
  "language_info": {
   "codemirror_mode": {
    "name": "ipython",
    "version": 3
   },
   "file_extension": ".py",
   "mimetype": "text/x-python",
   "name": "python",
   "nbconvert_exporter": "python",
   "pygments_lexer": "ipython3",
   "version": "3.11.4"
  }
 },
 "nbformat": 4,
 "nbformat_minor": 2
}
