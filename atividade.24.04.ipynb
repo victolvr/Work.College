{
 "cells": [
  {
   "cell_type": "code",
   "execution_count": 1,
   "metadata": {},
   "outputs": [],
   "source": [
    "L =[]\n",
    "L = list() #construtor de listas"
   ]
  },
  {
   "cell_type": "code",
   "execution_count": 14,
   "metadata": {},
   "outputs": [
    {
     "data": {
      "text/plain": [
       "3"
      ]
     },
     "execution_count": 14,
     "metadata": {},
     "output_type": "execute_result"
    }
   ],
   "source": [
    "dias =[3, 1, 10,]\n",
    "dias[0]"
   ]
  },
  {
   "cell_type": "code",
   "execution_count": 9,
   "metadata": {},
   "outputs": [
    {
     "data": {
      "text/plain": [
       "1"
      ]
     },
     "execution_count": 9,
     "metadata": {},
     "output_type": "execute_result"
    }
   ],
   "source": [
    "dias[1]"
   ]
  },
  {
   "cell_type": "code",
   "execution_count": 10,
   "metadata": {},
   "outputs": [
    {
     "data": {
      "text/plain": [
       "10"
      ]
     },
     "execution_count": 10,
     "metadata": {},
     "output_type": "execute_result"
    }
   ],
   "source": [
    "dias[2]"
   ]
  },
  {
   "cell_type": "code",
   "execution_count": 15,
   "metadata": {},
   "outputs": [],
   "source": [
    "Z = [3, 8, 9]"
   ]
  },
  {
   "cell_type": "code",
   "execution_count": 24,
   "metadata": {},
   "outputs": [],
   "source": [
    "Z[0] = 7"
   ]
  },
  {
   "cell_type": "code",
   "execution_count": 25,
   "metadata": {},
   "outputs": [
    {
     "data": {
      "text/plain": [
       "[7, 8, 9]"
      ]
     },
     "execution_count": 25,
     "metadata": {},
     "output_type": "execute_result"
    }
   ],
   "source": [
    "Z"
   ]
  },
  {
   "cell_type": "code",
   "execution_count": 37,
   "metadata": {},
   "outputs": [
    {
     "name": "stdout",
     "output_type": "stream",
     "text": [
      "True\n",
      "True\n",
      "[5, 7, 5, 8, 9]\n",
      "[5, 7, 5, 8, 9]\n"
     ]
    }
   ],
   "source": [
    "V = [6, 7, 5, 8, 9]\n",
    "L = V\n",
    "print(V==L)\n",
    "print(V is L)\n",
    "V[0]=5\n",
    "print(V)\n",
    "print(L)"
   ]
  },
  {
   "cell_type": "code",
   "execution_count": 34,
   "metadata": {},
   "outputs": [
    {
     "data": {
      "text/plain": [
       "[5, 7, 5, 8, 9]"
      ]
     },
     "execution_count": 34,
     "metadata": {},
     "output_type": "execute_result"
    }
   ],
   "source": [
    "L"
   ]
  },
  {
   "cell_type": "code",
   "execution_count": 35,
   "metadata": {},
   "outputs": [
    {
     "name": "stdout",
     "output_type": "stream",
     "text": [
      "True\n",
      "False\n",
      "[81, 82, 83]\n",
      "[5, 82, 83]\n"
     ]
    }
   ],
   "source": [
    "a = [81, 82, 83]\n",
    "b = a[:]    #cria um clone com fatia\n",
    "print(a == b)\n",
    "print(a is b)\n",
    "b[0] = 5\n",
    "print(a)\n",
    "print(b)"
   ]
  },
  {
   "cell_type": "code",
   "execution_count": 44,
   "metadata": {},
   "outputs": [
    {
     "name": "stdout",
     "output_type": "stream",
     "text": [
      "['b', 'c']\n",
      "['a', 'b', 'c', 'd']\n",
      "['d', 'e', 'f']\n",
      "['a', 'b', 'c', 'd', 'e', 'f']\n"
     ]
    }
   ],
   "source": [
    "uma_lista = ['a', 'b', 'c', 'd', 'e', 'f']\n",
    "print(uma_lista[1:3])\n",
    "print(uma_lista[:4])\n",
    "print(uma_lista[3:])\n",
    "print(uma_lista[:])"
   ]
  },
  {
   "cell_type": "code",
   "execution_count": 48,
   "metadata": {},
   "outputs": [
    {
     "name": "stdout",
     "output_type": "stream",
     "text": [
      "1\n"
     ]
    }
   ],
   "source": [
    "a = [1, 2, 3]\n",
    "b = a[:]\n",
    "b[0] = 5\n",
    "print(a[0])\n",
    "#print(a[3])"
   ]
  },
  {
   "cell_type": "code",
   "execution_count": 148,
   "metadata": {},
   "outputs": [
    {
     "name": "stdout",
     "output_type": "stream",
     "text": [
      "[(99, 76), 92.3, 'oi', 'Cibele', 4, 'pitomba', 76.0]\n",
      "oi = 2\n"
     ]
    }
   ],
   "source": [
    "minhaLista = [76, 92.3, \"oi\", True, 4, 76.]\n",
    "minhaLista[5:] \n",
    "minhaLista[5:] = \"pitomba\", 76.\n",
    "minhaLista[0] = 99, 76\n",
    "minhaLista[3]\n",
    "minhaLista[3] = \"Cibele\"\n",
    "print(minhaLista)\n",
    "if(minhaLista[0] == \"oi\"):\n",
    "    print(\"oi = 0\")\n",
    " \n",
    "elif(minhaLista[1] == \"oi\"):\n",
    "      print(\"oi = 1\")\n",
    " \n",
    "elif(minhaLista[2] == \"oi\"):\n",
    "      print(\"oi = 2\")\n",
    " \n",
    "elif(minhaLista[3] == \"oi\"):\n",
    "      print(\"oi = 3\")\n",
    " \n",
    "elif(minhaLista[4] == \"oi\"):\n",
    "      print(\"oi = 4\")\n",
    " \n",
    "elif(minhaLista[5] == \"oi\"):\n",
    "      print(\"oi = 5\")"
   ]
  },
  {
   "cell_type": "code",
   "execution_count": 150,
   "metadata": {},
   "outputs": [
    {
     "name": "stdout",
     "output_type": "stream",
     "text": [
      "[4, 2, 8, 6, 5, 'Cibele']\n"
     ]
    }
   ],
   "source": [
    "uma_lista1 = [4, 2, 8, 6, 5]\n",
    "uma_lista1 = uma_lista1 + [\"Cibele\"]\n",
    "print (uma_lista1)"
   ]
  },
  {
   "cell_type": "code",
   "execution_count": 1,
   "metadata": {},
   "outputs": [
    {
     "data": {
      "text/plain": [
       "(10, 20, 30)"
      ]
     },
     "execution_count": 1,
     "metadata": {},
     "output_type": "execute_result"
    }
   ],
   "source": [
    "tupla_numeros =  (10, 20, 30)\n",
    "tupla_numeros"
   ]
  },
  {
   "cell_type": "code",
   "execution_count": 2,
   "metadata": {},
   "outputs": [
    {
     "data": {
      "text/plain": [
       "(10, 20, 30)"
      ]
     },
     "execution_count": 2,
     "metadata": {},
     "output_type": "execute_result"
    }
   ],
   "source": [
    "tupla_nova = 10, 20, 30\n",
    "tupla_nova"
   ]
  },
  {
   "cell_type": "code",
   "execution_count": 3,
   "metadata": {},
   "outputs": [
    {
     "data": {
      "text/plain": [
       "(10,)"
      ]
     },
     "execution_count": 3,
     "metadata": {},
     "output_type": "execute_result"
    }
   ],
   "source": [
    "tupla_elemento = 10,\n",
    "tupla_elemento"
   ]
  },
  {
   "cell_type": "code",
   "execution_count": 4,
   "metadata": {},
   "outputs": [
    {
     "data": {
      "text/plain": [
       "('T', 'e', 's', 't', 'e')"
      ]
     },
     "execution_count": 4,
     "metadata": {},
     "output_type": "execute_result"
    }
   ],
   "source": [
    "nova_tupla = tuple('Teste')\n",
    "nova_tupla"
   ]
  },
  {
   "cell_type": "code",
   "execution_count": 5,
   "metadata": {},
   "outputs": [
    {
     "name": "stdout",
     "output_type": "stream",
     "text": [
      "0\n",
      "1\n"
     ]
    }
   ],
   "source": [
    "tupla_nomes = ('Marlene', 'Zezinho', 'Marlene', 'Cibele', 'Zuely')\n",
    "tupla_nomes.count('Marlene')\n",
    "print (tupla_nomes.count('Suely'))\n",
    "print (tupla_nomes.count('Zezinho'))"
   ]
  },
  {
   "cell_type": "code",
   "execution_count": 8,
   "metadata": {},
   "outputs": [
    {
     "name": "stdout",
     "output_type": "stream",
     "text": [
      "3\n"
     ]
    }
   ],
   "source": [
    "tupla_teste = (1,2,2,3,4,4,4,5)\n",
    "tupla_teste.count(4)\n",
    "print (tupla_teste.count(4))"
   ]
  }
 ],
 "metadata": {
  "kernelspec": {
   "display_name": "Python 3",
   "language": "python",
   "name": "python3"
  },
  "language_info": {
   "codemirror_mode": {
    "name": "ipython",
    "version": 3
   },
   "file_extension": ".py",
   "mimetype": "text/x-python",
   "name": "python",
   "nbconvert_exporter": "python",
   "pygments_lexer": "ipython3",
   "version": "3.11.4"
  }
 },
 "nbformat": 4,
 "nbformat_minor": 2
}
